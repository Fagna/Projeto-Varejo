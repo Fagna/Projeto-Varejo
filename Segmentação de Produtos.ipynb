{
 "cells": [
  {
   "cell_type": "markdown",
   "id": "deb0ebab",
   "metadata": {},
   "source": [
    "# Análise de Segmentação de Produtos em uma Loja de Varejo\n",
    "\n",
    "Essa análise tem como objetivo exemplificar a segmentação de produtos em uma loja de varejo, com foco no departamento de bebidas. A segmentação será realizada considerando os produtos dentro desse departamento, buscando encontrar produtos que  frequentemente podem ser comprados juntos. Para isso, usou-se a análise de correlação entre os produtos.\n",
    "\n",
    "## Contexto\n",
    "\n",
    "Em lojas de varejo, compreender quais produtos são frequentemente adquiridos em conjunto pode ser crucial para estratégias de marketing, disposição de produtos nas prateleiras e até mesmo para otimização de estoque. No departamento de bebidas, por exemplo, entender quais produtos têm uma forte associação de compra pode influenciar decisões sobre como organizar o espaço da loja e quais promoções podem ser mais eficazes.\n",
    "\n",
    "## Metodologia \n",
    "\n",
    "Começamos carregando os dados com os registros de vendas do departamento de bebidas e calculando a matriz de correlação entre os produtos. Em seguida, identificaremos os pares de produtos que apresentam uma correlação significativa, indicando uma tendência de serem comprados juntos. Por fim, visualizaremos os resultados de forma clara e interpretaremos as principais descobertas.\n",
    "\n",
    "Vamos a análise!"
   ]
  },
  {
   "cell_type": "code",
   "execution_count": null,
   "id": "40875100",
   "metadata": {},
   "outputs": [],
   "source": [
    "import pandas as pd               # Manipulação e análise de dados\n",
    "import matplotlib.pyplot as plt   # Visualização de dados\n",
    "import seaborn as sns             # Visualização de dados mais elaborada baseada em matplotlib"
   ]
  },
  {
   "cell_type": "code",
   "execution_count": null,
   "id": "7212b2cc",
   "metadata": {
    "scrolled": true
   },
   "outputs": [],
   "source": [
    "# Carrega os dados do arquivo Excel\n",
    "df = pd.read_excel(\"dados_compras.xlsx\")"
   ]
  },
  {
   "cell_type": "markdown",
   "id": "c6aa3762",
   "metadata": {},
   "source": [
    "### Descrição dos dados\n",
    "\n",
    "O total de produtos listados são 13. Cada linha representa um cliente, em que: \n",
    "\n",
    "$$\n",
    "\\begin{align*}\n",
    "0 & : \\text{Não comprou o produto} \\\\\n",
    "1 & : \\text{Comprou o produto}\n",
    "\\end{align*}\n",
    "$$\n",
    "\n",
    "A variável (produto) \"refrigerante\" refere-se a qualquer bebida carbonatada não alcoólica, gaseificada e adoçada, que não seja coca-cola e não pertença a nenhuma das demais categorias. "
   ]
  },
  {
   "cell_type": "code",
   "execution_count": null,
   "id": "0bb0b637",
   "metadata": {
    "scrolled": false
   },
   "outputs": [],
   "source": [
    "display(df) # Exibe o conteúdo da base de dados"
   ]
  },
  {
   "cell_type": "markdown",
   "id": "318c92fb",
   "metadata": {},
   "source": [
    "Os dados carregados como \"dados_compras.xlsx\" são simulados, considerando a dificuldade de se conseguir esses tipos de dados. Contudo, isso não invalida a aplicação real deste tipo de análise. Esse tipo de análide pode auxiliar as empresas na otimização de estoques, personalização de ofertas, identificação de tendências de compras e desenvolvimento de estratégias de marketing direcionadas.\n",
    "\n",
    "Para mais detalhes de como esses dados foram gerados acesse o link: [https://github.com/Fagna/Projeto-Varejo/](https://github.com/Fagna/Projeto-Varejo/blob/main/C%C3%B3digo%20dados%20simulados.ipynb)\n",
    " \n",
    "Mesmo sabendo que os dados são simulados, a boa prática da análise de dados exige que algumas verificações sejam feitas antes de aplicar a análise de correlação (que é objetivo da análise)."
   ]
  },
  {
   "cell_type": "code",
   "execution_count": null,
   "id": "86a8204a",
   "metadata": {},
   "outputs": [],
   "source": [
    "df.info() # Exibe informações do DataFrame"
   ]
  },
  {
   "cell_type": "markdown",
   "id": "d331607f",
   "metadata": {},
   "source": [
    "A função verifica o número de linhas de cada coluna, se há colunas linhas nulas (count) e o tipo de dados.\n",
    "\n",
    "### Quais produtos aparecem mais vezes e suas frequências\n"
   ]
  },
  {
   "cell_type": "code",
   "execution_count": null,
   "id": "cee5daf9",
   "metadata": {},
   "outputs": [],
   "source": [
    "frequencias = df.sum().sort_values(ascending=False)  # Obtem frequência de cada produto de forma decrescente \"ascending=False\"\n",
    "print(\"Produtos mais frequentes e suas frequências:\")  # Imprime uma mensagem entre \" \"\n",
    "print(frequencias)  # Exibe os produtos mais frequentes e suas frequências"
   ]
  },
  {
   "cell_type": "markdown",
   "id": "3e056ad0",
   "metadata": {},
   "source": [
    "A frequência pode não estar de acordo com a realidade. Conforme alertado, trata-se de dados simulados. \n",
    "\n",
    "### Matriz de correlação\n",
    "\n",
    "A matriz de correlação é uma ferramenta estatística que mostra como as diferentes variáveis em um conjunto de dados estão relacionadas entre si. Neste contexto de segmentação de produtos, a matriz de correlação pode ser extremamente útil para identificar quais produtos estão frequentemente associados ou comprados juntos pelos clientes."
   ]
  },
  {
   "cell_type": "code",
   "execution_count": null,
   "id": "5bee46ea",
   "metadata": {},
   "outputs": [],
   "source": [
    "matriz_correlacao = df.corr() # Calcular a matriz de correlação entre os produtos\n",
    "matriz_correlacao # Retorna a matriz calculada"
   ]
  },
  {
   "cell_type": "markdown",
   "id": "a97bf40f",
   "metadata": {},
   "source": [
    "Para avaliar a matriz de correlação de forma mais rápida e visual, utilizaremos as bibliotecas matplotlib e seaborn."
   ]
  },
  {
   "cell_type": "code",
   "execution_count": null,
   "id": "cb7e51ae",
   "metadata": {
    "scrolled": false
   },
   "outputs": [],
   "source": [
    "plt.figure(figsize=(10, 8))  # Define o tamanho da figura para o mapa de calor usando \"matplotlib\"\n",
    "sns.heatmap(matriz_correlacao, annot=True, cmap='coolwarm', fmt=\".2f\", linewidths=.5)  # Cria um mapa de calor usando \"seaborn\"\n",
    "plt.title('Matriz de Correlação Entre Bebidas', fontsize=16)  # Define o título do gráfico\n",
    "plt.xlabel('Bebidas', fontsize=14)  # Define o rótulo do eixo x\n",
    "plt.ylabel('Bebidas', fontsize=14)  # Define o rótulo do eixo y\n",
    "plt.xticks(rotation=45)  # Rotaciona os rótulos do eixo x em 45° para melhor legibilidade\n",
    "plt.yticks(rotation=0)  # Não rotaciona os rótulos do eixo y\n",
    "plt.tight_layout()  # Ajusta automaticamente a disposição dos elementos no gráfico para evitar sobreposição\n",
    "plt.show()  # Exibe o mapa de calor"
   ]
  },
  {
   "cell_type": "markdown",
   "id": "2e253128",
   "metadata": {},
   "source": [
    "Na análise de correlação, geralmente, valores acima de 0,5 ou -0,5 (positivos ou negativos) são considerados como indicativos de uma correlação moderada a forte entre as variáveis. As bebidas \"Energético e Água de Coco\" são as únicas com correlação superior a 0,5. Energético e Refrigerante tem a segunda correção mais alta, porém abaixo de 0,5. Podemos utilizar um filtro para que retorne essa informação que acabamos de identificar."
   ]
  },
  {
   "cell_type": "code",
   "execution_count": null,
   "id": "a658e246",
   "metadata": {},
   "outputs": [],
   "source": [
    "# Filtrar os produtos que aparecem juntos (correlação maior que um limite)\n",
    "limite_correlacao = 0.5  # Define um limite de correlação para determinar quais produtos aparecem juntos\n",
    "pares_produtos_aparecem_juntos = []  # Inicializa uma lista para armazenar os pares de produtos que aparecem juntos\n",
    "\n",
    "# Itera sobre as colunas da matriz de correlação\n",
    "for i in range(len(matriz_correlacao.columns)):\n",
    "    # Itera sobre as colunas seguintes na matriz de correlação\n",
    "    for j in range(i+1, len(matriz_correlacao.columns)):\n",
    "        # Verifica se a correlação entre os produtos é maior que o limite definido\n",
    "        if matriz_correlacao.iloc[i, j] > limite_correlacao:\n",
    "            # Adiciona o par de produtos à lista de pares que aparecem juntos\n",
    "            pares_produtos_aparecem_juntos.append((matriz_correlacao.columns[i], matriz_correlacao.columns[j]))\n",
    "\n",
    "# Imprime os pares de produtos que aparecem juntos, juntamente com a correlação\n",
    "print(\"\\nPares de produtos que aparecem juntos (correlação > {}):\".format(limite_correlacao))\n",
    "for par in pares_produtos_aparecem_juntos:  # Itera sobre os pares de produtos\n",
    "    print(par)  # Exibe o par de produtos que aparecem juntos"
   ]
  },
  {
   "cell_type": "markdown",
   "id": "f3ab2ee5",
   "metadata": {},
   "source": [
    "Resultado conforme haviamos discutido. Utilizando um fitro é possível quantificar essa correlação, ou seja, quantas vezes as bebidas foram compradas juntas."
   ]
  },
  {
   "cell_type": "code",
   "execution_count": null,
   "id": "118b33cb",
   "metadata": {},
   "outputs": [],
   "source": [
    "# Calcular a frequência de ocorrência da combinação \"Energético\" e \"Água de Coco\"\n",
    "frequencia_absoluta = df[(df['Energético'] == 1) & (df['Água de Coco'] == 1)].shape[0]#Calcula frequência absoluta da combinação\n",
    "total_observacoes = df.shape[0]  # Calcula o total de observações no DataFrame\n",
    "frequencia_percentual = (frequencia_absoluta / total_observacoes) * 100  # Calcula a frequência percentual da combinação\n",
    "\n",
    "print(\"Frequência absoluta da combinação 'Energético' e 'Água de Coco':\", frequencia_absoluta)  # Exibe a frequência absoluta\n",
    "print(\"Frequência percentual da combinação 'Energético' e 'Água de Coco':\", frequencia_percentual)  # Exibe a frequência em %"
   ]
  },
  {
   "cell_type": "markdown",
   "id": "3cc44c88",
   "metadata": {},
   "source": [
    "Ou seja, dos 1000 registros de clientes que fizeram compras 377 deles compraram Energético e Água de Coco. Por curiosidade se verificarmos as quantidade de vezes que Energético e Refrigerante foram comprados juntos, veremeos que foi uma quantidade de vezes menor, já que a correlação é de 0,44. "
   ]
  },
  {
   "cell_type": "code",
   "execution_count": null,
   "id": "835cd4f9",
   "metadata": {},
   "outputs": [],
   "source": [
    "# Calcular a frequência de ocorrência da combinação \"Energético\" e \"Refrigerante\"\n",
    "frequencia_absoluta = df[(df['Energético'] == 1) & (df['Refrigerante'] == 1)].shape[0]\n",
    "total_observacoes = df.shape[0]\n",
    "frequencia_percentual = (frequencia_absoluta / total_observacoes) * 100\n",
    "\n",
    "print(\"Frequência absoluta da combinação 'Energético' e 'Refrigerante':\", frequencia_absoluta)\n",
    "print(\"Frequência percentual da combinação 'Energético' e 'Refrigerante':\", frequencia_percentual)\n"
   ]
  },
  {
   "cell_type": "markdown",
   "id": "73b576b7",
   "metadata": {},
   "source": [
    "A diferença entre a quantidade de vezes que Energético e Água de Coco foram comprados juntos comparado com a quantidade de vezes que Energético e Refrigerante foram comprados juntos de 26 veses. Parece muito pouco, mas estatisticamente Energético e Refrigerante não possuem correlação significa para serem considerados bebidas que frequentemente são compradas juntas.\n",
    "\n",
    "Uma correlação de 0,44 geralmente indicaria uma relação moderada entre as variáveis, mas a significância depende do contexto específico da análise. Em alguns contexto, pode ser importante considerar não apenas os valores de correlação, mas também as frequências absolutas de ocorrência ao interpretar as relações entre os produtos."
   ]
  },
  {
   "cell_type": "markdown",
   "id": "322d1877",
   "metadata": {},
   "source": [
    "# Conclusão\n",
    "\n",
    "Considerando a significância estatística da relação entre as bebidas Energético e Água de Coco, é recomendável planejar estratégias de vendas que levem em consideração a associação dessas bebidas. Posicionar esses itens próximo um do outro nas prateleiras pode potencializar as vendas. Além disso, é importante observar a proximidade do refrigerante, que também pode influenciar o comportamento de compra dos consumidores.\n",
    "\n",
    "**Considerações:** esse foi apenas um exemplo de uma aplicação usando dados simulados. Esse método de segmentar produtos com base na correlação é simples e pode ser aplicado a diversas situações. "
   ]
  },
  {
   "cell_type": "code",
   "execution_count": null,
   "id": "ebf1d364",
   "metadata": {},
   "outputs": [],
   "source": []
  }
 ],
 "metadata": {
  "kernelspec": {
   "display_name": "Python 3 (ipykernel)",
   "language": "python",
   "name": "python3"
  },
  "language_info": {
   "codemirror_mode": {
    "name": "ipython",
    "version": 3
   },
   "file_extension": ".py",
   "mimetype": "text/x-python",
   "name": "python",
   "nbconvert_exporter": "python",
   "pygments_lexer": "ipython3",
   "version": "3.11.5"
  }
 },
 "nbformat": 4,
 "nbformat_minor": 5
}
