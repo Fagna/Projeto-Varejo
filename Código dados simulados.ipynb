{
 "cells": [
  {
   "cell_type": "markdown",
   "id": "93d1b00f",
   "metadata": {},
   "source": [
    "## Código para geração de dados simulados\n",
    "\n",
    "Neste código, foi utilizada uma técnica para garantir que \"Uísque\" e \"Água de Coco\" aparecessem juntos na maioria das observações geradas. Se ambos os produtos estiverem presentes na lista de produtos comprados, \"Energético\" será adicionado à lista. Isso pode ser visto na linha onde é feita a verificação if \"Uísque\" in produtos_comprados and \"Água de Coco\" in produtos_comprados:\n",
    "\n",
    "\n",
    "Cada vez que você executar o código, o resultado será diferente devido à geração aleatória de compras. Os produtos comprados em cada simulação são selecionados aleatoriamente com base em probabilidades predefinidas. Isso significa que, mesmo que você execute o código com os mesmos parâmetros, como o número de compras simuladas, as compras individuais variarão a cada execução.\n",
    "\n",
    "\n",
    "Você pode garantir que o resultado seja reproduzível definindo uma semente (seed) para o gerador de números aleatórios. Isso garantirá que, mesmo que o código envolva elementos aleatórios, os resultados sejam os mesmos sempre que a semente for a mesma. Por exemplo, você pode definir uma semente antes de começar a geração de números aleatórios usando a função random.seed(). Assim, todas as vezes que você executar o código com a mesma semente, obterá os mesmos resultados."
   ]
  },
  {
   "cell_type": "code",
   "execution_count": 40,
   "id": "d6d4f7f1",
   "metadata": {},
   "outputs": [],
   "source": [
    "import openpyxl \n",
    "import random\n",
    "\n",
    "# Definição das categorias de produtos\n",
    "categorias = {\n",
    "    \"Bebidas Alcoólicas\": [\"Vinho\", \"Uísque\", \"Vodka\", \"Martini\", \"Cachaça\", \"Cerveja\"],\n",
    "    \"Bebidas Não Alcoólicas\": [\"Coca-Cola\", \"Suco de Frutas\", \"Água\", \"Energético\", \"Milkshake\", \"Refrigerante\", \"Água de Coco\"]\n",
    "}\n",
    "\n",
    "# Lista de todos os produtos\n",
    "produtos = [produto for sublist in categorias.values() for produto in sublist]\n",
    "\n",
    "# Cria uma nova planilha\n",
    "wb = openpyxl.Workbook()\n",
    "ws = wb.active\n",
    "\n",
    "# Define os cabeçalhos da planilha\n",
    "for idx, produto in enumerate(produtos, start=1):\n",
    "    ws.cell(row=1, column=idx).value = produto\n",
    "\n",
    "# Gera dados simulados\n",
    "for i in range(1000):\n",
    "    # Seleciona produtos aleatórios\n",
    "    produtos_comprados = []\n",
    "    for categoria, produtos_categoria in categorias.items():\n",
    "        if random.random() < 0.8:  # Probabilidade de 80% de comprar da categoria\n",
    "            produtos_comprados.extend(random.sample(produtos_categoria, random.randint(1, len(produtos_categoria))))\n",
    "\n",
    "    # Verifica se \"Uísque\" e \"Água de Coco\" estão na lista de produtos e os adiciona juntos\n",
    "    if \"Uísque\" in produtos_comprados and \"Água de Coco\" in produtos_comprados:\n",
    "        produtos_comprados.append(\"Energético\")\n",
    "\n",
    "    # Escreve os dados na planilha\n",
    "    row = i + 2\n",
    "    for produto in produtos:\n",
    "        if produto in produtos_comprados:\n",
    "            ws.cell(row=row, column=produtos.index(produto) + 1).value = 1\n",
    "        else:\n",
    "            ws.cell(row=row, column=produtos.index(produto) + 1).value = 0\n",
    "\n",
    "# Salva a planilha\n",
    "wb.save(\"dados_simulados.xlsx\")\n"
   ]
  }
 ],
 "metadata": {
  "kernelspec": {
   "display_name": "Python 3 (ipykernel)",
   "language": "python",
   "name": "python3"
  },
  "language_info": {
   "codemirror_mode": {
    "name": "ipython",
    "version": 3
   },
   "file_extension": ".py",
   "mimetype": "text/x-python",
   "name": "python",
   "nbconvert_exporter": "python",
   "pygments_lexer": "ipython3",
   "version": "3.11.5"
  }
 },
 "nbformat": 4,
 "nbformat_minor": 5
}
